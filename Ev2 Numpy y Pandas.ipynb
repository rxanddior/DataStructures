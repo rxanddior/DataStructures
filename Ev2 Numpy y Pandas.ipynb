{
 "cells": [
  {
   "cell_type": "markdown",
   "metadata": {},
   "source": [
    "## **Ventajas de NumPy**"
   ]
  },
  {
   "cell_type": "code",
   "execution_count": 7,
   "metadata": {},
   "outputs": [
    {
     "name": "stdout",
     "output_type": "stream",
     "text": [
      "Los datos son: [112  11  20  37  21  66 468  88]\n",
      "Suma (+90) es: [202 101 110 127 111 156 558 178]\n",
      "Resta (-12) es: [100  -1   8  25   9  54 456  76]\n",
      "Multiplicacion (*10) es: [1120  110  200  370  210  660 4680  880]\n",
      "Division (/4) es: [ 28.     2.75   5.     9.25   5.25  16.5  117.    22.  ]\n",
      "Media: 102.875\n",
      "Desviación estándar: 142.00918764291274\n",
      "Valor máximo: 468\n",
      "Valor mínimo: 11\n"
     ]
    }
   ],
   "source": [
    "\n",
    "import numpy as np \n",
    "import pandas as pd\n",
    "\n",
    "#Crear array de datos \n",
    "datos = np.array([112,11,20,37,21,66,468,88]) \n",
    "print('Los datos son:', datos) \n",
    "\n",
    "\n",
    "#Operaciones aritmeticas al array \n",
    "\n",
    "suma = datos + 90 \n",
    "resta = datos -12 \n",
    "multiplicacion = datos *10 \n",
    "division = datos/4 \n",
    "\n",
    "\n",
    "print('Suma (+90) es:', suma) \n",
    "\n",
    "print('Resta (-12) es:', resta) \n",
    "\n",
    "print('Multiplicacion (*10) es:', multiplicacion) \n",
    "\n",
    "print('Division (/4) es:', division) \n",
    "\n",
    " \n",
    "\n",
    "# Calcular estadísticas \n",
    "\n",
    "media = np.mean(datos) \n",
    "\n",
    "desviacion_estandar = np.std(datos) \n",
    "\n",
    "maximo = np.max(datos) \n",
    "\n",
    "minimo = np.min(datos) \n",
    "\n",
    "\n",
    "print('Media:', media) \n",
    "\n",
    "print('Desviación estándar:', desviacion_estandar) \n",
    "\n",
    "print('Valor máximo:', maximo) \n",
    "\n",
    "print('Valor mínimo:', minimo) "
   ]
  },
  {
   "cell_type": "markdown",
   "metadata": {},
   "source": [
    "## **Ventajas de Pandas**\n"
   ]
  },
  {
   "cell_type": "code",
   "execution_count": 52,
   "metadata": {},
   "outputs": [
    {
     "name": "stdout",
     "output_type": "stream",
     "text": [
      "Ventas mayores a 200:\n",
      "   Producto  Ventas  Descuento\n",
      "3        B     250         25\n",
      "4        C     300         10\n",
      "5        A     350         20\n",
      "6        C     400         30\n",
      "7        B     450         25\n",
      "\n",
      "Ventas por producto:\n",
      " Producto\n",
      "A    650\n",
      "B    850\n",
      "C    700\n",
      "Name: Ventas, dtype: int64\n",
      "\n",
      "DataFrame con el precio final calculado:\n",
      "   Producto  Ventas  Descuento  Precio_Final\n",
      "0        A     100         10            90\n",
      "1        B     150         20           130\n",
      "2        A     200         15           185\n",
      "3        B     250         25           225\n",
      "4        C     300         10           290\n",
      "5        A     350         20           330\n",
      "6        C     400         30           370\n",
      "7        B     450         25           425\n",
      "\n",
      "Promedio de ventas: 275.0\n"
     ]
    }
   ],
   "source": [
    "import pandas as pd\n",
    "\n",
    "# Crear un DataFrame de ejemplo\n",
    "data = {\n",
    "    'Producto': ['A', 'B', 'A', 'B', 'C', 'A', 'C', 'B'],\n",
    "    'Ventas': [100, 150, 200, 250, 300, 350, 400, 450],\n",
    "    'Descuento': [10, 20, 15, 25, 10, 20, 30, 25]\n",
    "}\n",
    "\n",
    "df = pd.DataFrame(data)\n",
    "\n",
    "#Filtrar datos: Ventas mayores a 200\n",
    "ventas_mayores_200 = df[df['Ventas'] > 200]\n",
    "\n",
    "#Sumar las ventas por producto\n",
    "ventas_por_producto = df.groupby('Producto')['Ventas'].sum()\n",
    "\n",
    "#Calcular el precio final después de aplicar descuentos\n",
    "df['Precio_Final'] = df['Ventas'] - df['Descuento']\n",
    "\n",
    "#Calcular el promedio de ventas\n",
    "promedio_ventas = df['Ventas'].mean()\n",
    "\n",
    "print(\"Ventas mayores a 200:\\n\", ventas_mayores_200)\n",
    "print(\"\\nVentas por producto:\\n\", ventas_por_producto)\n",
    "print(\"\\nDataFrame con el precio final calculado:\\n\", df)\n",
    "print(\"\\nPromedio de ventas:\", promedio_ventas)"
   ]
  },
  {
   "cell_type": "markdown",
   "metadata": {},
   "source": [
    "### **Crear una Serie**"
   ]
  },
  {
   "cell_type": "code",
   "execution_count": null,
   "metadata": {},
   "outputs": [],
   "source": [
    "import pandas as pd \n",
    "\n",
    "\n",
    "# Crear una Serie inicial con algunos datos \n",
    "serie = pd.Series([1, 2, 3], index=['a', 'b', 'c']) \n",
    "\n",
    "print(\"Serie original:\") \n",
    "\n",
    "print(serie) "
   ]
  },
  {
   "cell_type": "markdown",
   "metadata": {},
   "source": [
    "### **Agregar datos a una Serie**\n"
   ]
  },
  {
   "cell_type": "code",
   "execution_count": 9,
   "metadata": {},
   "outputs": [
    {
     "name": "stdout",
     "output_type": "stream",
     "text": [
      "\n",
      "Serie con mas datos:\n",
      "a    1\n",
      "b    2\n",
      "c    3\n",
      "d    4\n",
      "e    5\n",
      "f    6\n",
      "dtype: int64\n"
     ]
    }
   ],
   "source": [
    "import pandas as pd\n",
    "\n",
    "nueva_serie = pd.Series([4, 5, 6], index=['d', 'e', 'f'])\n",
    "serie = pd.concat([serie, nueva_serie])\n",
    "\n",
    "print(\"\\nSerie con mas datos:\")\n",
    "print(serie)"
   ]
  },
  {
   "cell_type": "markdown",
   "metadata": {},
   "source": [
    "### **Convertir Series en Data Frame**"
   ]
  },
  {
   "cell_type": "code",
   "execution_count": 49,
   "metadata": {},
   "outputs": [
    {
     "data": {
      "text/html": [
       "<div>\n",
       "<style scoped>\n",
       "    .dataframe tbody tr th:only-of-type {\n",
       "        vertical-align: middle;\n",
       "    }\n",
       "\n",
       "    .dataframe tbody tr th {\n",
       "        vertical-align: top;\n",
       "    }\n",
       "\n",
       "    .dataframe thead th {\n",
       "        text-align: right;\n",
       "    }\n",
       "</style>\n",
       "<table border=\"1\" class=\"dataframe\">\n",
       "  <thead>\n",
       "    <tr style=\"text-align: right;\">\n",
       "      <th></th>\n",
       "      <th>Nombre</th>\n",
       "      <th>Edad</th>\n",
       "      <th>Ciudad</th>\n",
       "      <th>Ocupación</th>\n",
       "    </tr>\n",
       "  </thead>\n",
       "  <tbody>\n",
       "    <tr>\n",
       "      <th>0</th>\n",
       "      <td>Ana</td>\n",
       "      <td>28</td>\n",
       "      <td>Madrid</td>\n",
       "      <td>Ingeniera</td>\n",
       "    </tr>\n",
       "    <tr>\n",
       "      <th>1</th>\n",
       "      <td>Juan</td>\n",
       "      <td>34</td>\n",
       "      <td>Barcelona</td>\n",
       "      <td>Doctor</td>\n",
       "    </tr>\n",
       "    <tr>\n",
       "      <th>2</th>\n",
       "      <td>Pedro</td>\n",
       "      <td>29</td>\n",
       "      <td>Valencia</td>\n",
       "      <td>Abogado</td>\n",
       "    </tr>\n",
       "    <tr>\n",
       "      <th>3</th>\n",
       "      <td>Lucía</td>\n",
       "      <td>24</td>\n",
       "      <td>Sevilla</td>\n",
       "      <td>Estudiante</td>\n",
       "    </tr>\n",
       "    <tr>\n",
       "      <th>4</th>\n",
       "      <td>Carlos</td>\n",
       "      <td>30</td>\n",
       "      <td>Bilbao</td>\n",
       "      <td>Arquitecto</td>\n",
       "    </tr>\n",
       "    <tr>\n",
       "      <th>5</th>\n",
       "      <td>Marta</td>\n",
       "      <td>27</td>\n",
       "      <td>Granada</td>\n",
       "      <td>Periodista</td>\n",
       "    </tr>\n",
       "    <tr>\n",
       "      <th>6</th>\n",
       "      <td>Luis</td>\n",
       "      <td>32</td>\n",
       "      <td>Málaga</td>\n",
       "      <td>Profesor</td>\n",
       "    </tr>\n",
       "    <tr>\n",
       "      <th>7</th>\n",
       "      <td>Sofía</td>\n",
       "      <td>26</td>\n",
       "      <td>Zaragoza</td>\n",
       "      <td>Médica</td>\n",
       "    </tr>\n",
       "  </tbody>\n",
       "</table>\n",
       "</div>"
      ],
      "text/plain": [
       "   Nombre  Edad     Ciudad   Ocupación\n",
       "0     Ana    28     Madrid   Ingeniera\n",
       "1    Juan    34  Barcelona      Doctor\n",
       "2   Pedro    29   Valencia     Abogado\n",
       "3   Lucía    24    Sevilla  Estudiante\n",
       "4  Carlos    30     Bilbao  Arquitecto\n",
       "5   Marta    27    Granada  Periodista\n",
       "6    Luis    32     Málaga    Profesor\n",
       "7   Sofía    26   Zaragoza      Médica"
      ]
     },
     "execution_count": 49,
     "metadata": {},
     "output_type": "execute_result"
    }
   ],
   "source": [
    "\n",
    "import pandas as pd\n",
    "\n",
    "# Crear el la serie a dataframe\n",
    "datos = {\n",
    "    'Nombre': ['Ana', 'Juan', 'Pedro', 'Lucía'],\n",
    "    'Edad': [28, 34, 29, 24],\n",
    "    'Ciudad': ['Madrid', 'Barcelona', 'Valencia', 'Sevilla'],\n",
    "    'Ocupación': ['Ingeniera', 'Doctor', 'Abogado', 'Estudiante']\n",
    "}\n",
    "\n",
    "#Agregar los datos\n",
    "datos['Nombre'].extend(['Carlos', 'Marta', 'Luis', 'Sofía'])\n",
    "datos['Edad'].extend([30, 27, 32, 26])\n",
    "datos['Ciudad'].extend(['Bilbao', 'Granada', 'Málaga', 'Zaragoza'])\n",
    "datos['Ocupación'].extend(['Arquitecto', 'Periodista', 'Profesor', 'Médica'])\n",
    "\n",
    "df = pd.DataFrame(datos)\n",
    "df"
   ]
  },
  {
   "cell_type": "markdown",
   "metadata": {},
   "source": [
    "### **Diccionarios convertir a Serie**"
   ]
  },
  {
   "cell_type": "code",
   "execution_count": 20,
   "metadata": {},
   "outputs": [
    {
     "name": "stdout",
     "output_type": "stream",
     "text": [
      "0       Ana\n",
      "1      Luis\n",
      "2     María\n",
      "3     Pedro\n",
      "4     Laura\n",
      "5    Carlos\n",
      "6    Isabel\n",
      "7      José\n",
      "Name: Nombre, dtype: object\n"
     ]
    }
   ],
   "source": [
    "import pandas as pd\n",
    "\n",
    "data = [ \n",
    "        {'Nombre':'Ana', 'Edad': 28,'Ciudad':'Madrid'},\n",
    "        {'Nombre':'Luis', 'Edad': 34, 'Ciudad':'Barcelona'}, \n",
    "        {'Nombre':'María','Edad': 22, 'Ciudad': 'Valencia'},\n",
    "        {'Nombre':'Pedro','Edad': 45, 'Ciudad': 'Sevilla'},\n",
    "        {'Nombre':'Laura','Edad': 31, 'Ciudad': 'Bilbao'},\n",
    "        {'Nombre':'Carlos', 'Edad': 29,'Ciudad': 'Granada'},\n",
    "        {'Nombre':'Isabel', 'Edad': 27, 'Ciudad': 'Murcia'},\n",
    "        {'Nombre':'José', 'Edad': 40, 'Ciudad': 'Zaragoza'}\n",
    "]\n",
    "\n",
    "df = pd.DataFrame(data)\n",
    "\n",
    "serie_nombres = pd.Series (df['Nombre'])\n",
    "                              \n",
    "print(serie_nombres)"
   ]
  },
  {
   "cell_type": "markdown",
   "metadata": {},
   "source": [
    "### **Convertir Diccionario a DataFrame**"
   ]
  },
  {
   "cell_type": "code",
   "execution_count": 13,
   "metadata": {},
   "outputs": [
    {
     "name": "stdout",
     "output_type": "stream",
     "text": [
      "   Nombre  Edad     Ciudad   Apellido Carrera Matricula\n",
      "0     Ana    28     Madrid  Rodriguez     LTI   1866338\n",
      "1    Juan    34  Barcelona    Sanchez      LA   1986553\n",
      "2  Carlos    29   Valencia    Mendoza      CP   1966229\n"
     ]
    }
   ],
   "source": [
    "import pandas as pd\n",
    "\n",
    "data = {\n",
    "    'Nombre':['Ana', 'Juan', 'Carlos'],\n",
    "    'Edad':[28, 34, 29],\n",
    "    'Ciudad':['Madrid', 'Barcelona', 'Valencia'],\n",
    "    'Apellido':['Rodriguez' , 'Sanchez' , 'Mendoza'],\n",
    "    'Carrera':['LTI' , 'LA' , 'CP'],\n",
    "    'Matricula':['1866338', '1986553', '1966229']\n",
    "}\n",
    "\n",
    "df = pd.DataFrame(data)\n",
    "\n",
    "print(df)"
   ]
  },
  {
   "cell_type": "markdown",
   "metadata": {},
   "source": [
    "### **Agregar datos al diccionario**"
   ]
  },
  {
   "cell_type": "code",
   "execution_count": 55,
   "metadata": {},
   "outputs": [
    {
     "name": "stdout",
     "output_type": "stream",
     "text": [
      "     Nombre  Edad      Trabajo Licencia de manejo\n",
      "0  Deyanira    19  Veterinaria           Estándar\n",
      "1   Eugenio    20    Consulado             Tipo A\n",
      "2    Elvira    33   Ferreteria             Tipo C\n",
      "3  Santiago    21     Farmacia       Sin licencia\n"
     ]
    }
   ],
   "source": [
    "#DataFrame inicial del diccionario\n",
    "\n",
    "df= pd.DataFrame({\n",
    "    'Nombre':['Deyanira','Eugenio','Elvira','Santiago'],\n",
    "    'Edad':[19,20,33,21],\n",
    "    'Trabajo':['Veterinaria', 'Consulado', 'Ferreteria','Farmacia']\n",
    "    \n",
    "    \n",
    "})\n",
    "\n",
    "# Agregar nueva columna\n",
    "\n",
    "df['Licencia de manejo']= ['Estándar','Tipo A', 'Tipo C', 'Sin licencia']\n",
    "\n",
    "print(df)"
   ]
  },
  {
   "cell_type": "markdown",
   "metadata": {},
   "source": [
    "### **Listas de listas Data frame**"
   ]
  },
  {
   "cell_type": "code",
   "execution_count": 23,
   "metadata": {},
   "outputs": [
    {
     "name": "stdout",
     "output_type": "stream",
     "text": [
      "La lista de lista es:[[11, 22, 33, 44, 55, 66], [22, 44, 55, 66, 77, 99], [33, 66, 99, 110, 133, 166]]\n",
      "    0   1   2    3    4    5\n",
      "0  11  22  33   44   55   66\n",
      "1  22  44  55   66   77   99\n",
      "2  33  66  99  110  133  166\n"
     ]
    }
   ],
   "source": [
    "import pandas as pd\n",
    "\n",
    "list_of_lst= [\n",
    "    [11,22,33,44,55,66],\n",
    "    [22,44,55,66,77,99],\n",
    "    [33,66,99,110,133,166]\n",
    "]\n",
    "\n",
    "print(f'La lista de lista es:{list_of_lst}')\n",
    "\n",
    "#Covertir las lista de lista a DataFrame\n",
    "\n",
    "list_df= pd.DataFrame(list_of_lst)\n",
    "print(list_df)"
   ]
  },
  {
   "cell_type": "markdown",
   "metadata": {},
   "source": [
    "### **Agregar listas de listas a dataframe**"
   ]
  },
  {
   "cell_type": "code",
   "execution_count": 36,
   "metadata": {},
   "outputs": [
    {
     "name": "stdout",
     "output_type": "stream",
     "text": [
      "           Nombre      Materia  Calificacion\n",
      "Student1   Alicia      Español            88\n",
      "Student2      Aby  Matematicas            90\n",
      "Student3   Angela     Historia           100\n",
      "Student4  Jessica    Geografia            77\n",
      "    Nombre      Materia  Calificacion\n",
      "0   Alicia      Español            88\n",
      "1      Aby  Matematicas            90\n",
      "2   Angela     Historia           100\n",
      "3  Jessica    Geografia            77\n",
      "4  Eugenio     Historia            66\n",
      "5    Mario  Matematicas            77\n",
      "6   Junior      Español            99\n",
      "7     Juan    Geografia           100\n"
     ]
    }
   ],
   "source": [
    "import pandas as pd\n",
    "\n",
    "calif_alu= [\n",
    "    ['Alicia', 'Español', 88],\n",
    "    ['Aby', 'Matematicas', 90],\n",
    "    ['Angela', 'Historia', 100],\n",
    "    ['Jessica', 'Geografia', 77]\n",
    "]\n",
    "\n",
    "# Se puede agregar indice personalizado\n",
    "\n",
    "df_calif = pd.DataFrame(calif_alu, columns=['Nombre','Materia','Calificacion'], index=['Student1','Student2','Student3','Student4'])\n",
    "\n",
    "print(df_calif)\n",
    "\n",
    "#Actualizar las calificaciones usando nuevas listas\n",
    "calif_alunew= [\n",
    "    ['Eugenio','Historia', 66],\n",
    "    ['Mario', 'Matematicas', 77],\n",
    "    ['Junior','Español', 99],\n",
    "    ['Juan', 'Geografia', 100]\n",
    "]\n",
    "\n",
    "df_calif_new= pd.DataFrame(calif_alunew, columns=['Nombre','Materia','Calificacion'], index=['Student5','Student6','Student7','Student8'])\n",
    "\n",
    "#Concatenar la listas en df\n",
    "df_calif_= pd.concat([df_calif,df_calif_new], ignore_index=True)\n",
    "print(df_calif_)\n"
   ]
  },
  {
   "cell_type": "markdown",
   "metadata": {},
   "source": [
    "### **Crear diccionario para almacenar arrays**"
   ]
  },
  {
   "cell_type": "code",
   "execution_count": 38,
   "metadata": {},
   "outputs": [
    {
     "name": "stdout",
     "output_type": "stream",
     "text": [
      "[1 2 3]\n"
     ]
    }
   ],
   "source": [
    "import numpy as np\n",
    "\n",
    "diccionario = {}\n",
    "diccionario1 = np.array([1, 2, 3])\n",
    "diccionario2 = np.array([[4, 5, 6], [7, 8, 9]])\n",
    "diccionario3 = np.array([10, 11, 12])\n",
    "\n",
    "print(diccionario1)"
   ]
  },
  {
   "cell_type": "markdown",
   "metadata": {},
   "source": [
    "### **Crear dataFrame en NumPy**"
   ]
  },
  {
   "cell_type": "code",
   "execution_count": 51,
   "metadata": {},
   "outputs": [
    {
     "name": "stdout",
     "output_type": "stream",
     "text": [
      "    A   B   C\n",
      "0  10  20  30\n",
      "1  40  50  60\n",
      "2  70  80  90\n"
     ]
    }
   ],
   "source": [
    "import numpy as np\n",
    "import pandas as pd\n",
    "\n",
    "array = np.array([[10, 20, 30], [40, 50, 60], [70, 80, 90]])\n",
    "\n",
    "df = pd.DataFrame(array, columns=['A', 'B', 'C'])\n",
    "\n",
    "print(df)"
   ]
  },
  {
   "cell_type": "markdown",
   "metadata": {},
   "source": [
    "### **Crear serie apartir de un array en numpy**"
   ]
  },
  {
   "cell_type": "code",
   "execution_count": 45,
   "metadata": {},
   "outputs": [
    {
     "name": "stdout",
     "output_type": "stream",
     "text": [
      "     Medicina   Dosis     Prescripción médica\n",
      "0     Tylenol   40 mg      Tomar cada 8 horas\n",
      "1   Buscapina    10mg     Tomar cada 12 horas\n",
      "2    Dorixina   50 mg  Tomar en caso de dolor\n",
      "3  Ibuprofeno  150 mg      Tomar cada 6 horas\n",
      "0       Tylenol\n",
      "1     Buscapina\n",
      "2      Dorixina\n",
      "3    Ibuprofeno\n",
      "Name: Medicina, dtype: object\n"
     ]
    }
   ],
   "source": [
    "import pandas as pd\n",
    "import numpy as np\n",
    "\n",
    "#Se convierte el array en numpy\n",
    "array_nu = np.array([\n",
    "    ['Tylenol', '40 mg', 'Tomar cada 8 horas'],\n",
    "    ['Buscapina', '10mg', 'Tomar cada 12 horas'],\n",
    "    ['Dorixina', '50 mg', 'Tomar en caso de dolor'],\n",
    "    ['Ibuprofeno', '150 mg', 'Tomar cada 6 horas']\n",
    "])\n",
    "\n",
    "#Convertir el array a dataframe\n",
    "df=pd.DataFrame(array_nu, columns=['Medicina', 'Dosis', 'Prescripción médica'])\n",
    "print(df)\n",
    "\n",
    "#Convertir la columna Medicina en serie\n",
    "serieMed= df['Medicina']\n",
    "\n",
    "print(serieMed)\n",
    "\n"
   ]
  },
  {
   "cell_type": "markdown",
   "metadata": {},
   "source": [
    "##  **Arreglos de Numpy**"
   ]
  },
  {
   "cell_type": "markdown",
   "metadata": {},
   "source": [
    "### **Unidimencionales**"
   ]
  },
  {
   "cell_type": "code",
   "execution_count": 50,
   "metadata": {},
   "outputs": [
    {
     "name": "stdout",
     "output_type": "stream",
     "text": [
      "Arreglo unidimensional:\n",
      "[1 2 3 4 5]\n"
     ]
    }
   ],
   "source": [
    "import numpy as np\n",
    "\n",
    "arr = np.array([1, 2, 3, 4, 5])\n",
    "\n",
    "print(\"Arreglo unidimensional:\")\n",
    "print(arr)"
   ]
  },
  {
   "cell_type": "markdown",
   "metadata": {},
   "source": [
    "### **Bidimencionales**"
   ]
  },
  {
   "cell_type": "code",
   "execution_count": 46,
   "metadata": {},
   "outputs": [
    {
     "name": "stdout",
     "output_type": "stream",
     "text": [
      "Arreglo bidimensional:\n",
      "[[1 2 3]\n",
      " [4 5 6]\n",
      " [7 8 9]]\n"
     ]
    }
   ],
   "source": [
    "import numpy as np  \n",
    "\n",
    "# Crear un arreglo bidimensional de numpy  \n",
    "\n",
    "numpy_array_2d = np.array([ [1, 2, 3], [4, 5, 6], [7, 8, 9] ])  \n",
    "\n",
    "# Mostrar el arreglo  \n",
    "\n",
    "print(\"Arreglo bidimensional:\")  \n",
    "\n",
    "print(numpy_array_2d) "
   ]
  },
  {
   "cell_type": "markdown",
   "metadata": {},
   "source": [
    "### **Ceros y Unos**"
   ]
  },
  {
   "cell_type": "code",
   "execution_count": 47,
   "metadata": {},
   "outputs": [
    {
     "name": "stdout",
     "output_type": "stream",
     "text": [
      "DataFrame de ceros:\n",
      "     A    B    C\n",
      "0  0.0  0.0  0.0\n",
      "1  0.0  0.0  0.0\n",
      "2  0.0  0.0  0.0\n",
      "\n",
      "DataFrame de unos:\n",
      "     X    Y\n",
      "0  1.0  1.0\n",
      "1  1.0  1.0\n",
      "2  1.0  1.0\n",
      "3  1.0  1.0\n"
     ]
    }
   ],
   "source": [
    "import pandas as pd \n",
    "import numpy as np  \n",
    "\n",
    "df_zeros = pd.DataFrame(np.zeros((3, 3)), columns=['A', 'B', 'C']) \n",
    "\n",
    "print(\"DataFrame de ceros:\") \n",
    "\n",
    "print(df_zeros) \n",
    "\n",
    "\n",
    "df_ones = pd.DataFrame(np.ones((4, 2)), columns=['X', 'Y']) \n",
    "\n",
    "print(\"\\nDataFrame de unos:\") \n",
    "\n",
    "print(df_ones) "
   ]
  }
 ],
 "metadata": {
  "kernelspec": {
   "display_name": "Python 3",
   "language": "python",
   "name": "python3"
  },
  "language_info": {
   "codemirror_mode": {
    "name": "ipython",
    "version": 3
   },
   "file_extension": ".py",
   "mimetype": "text/x-python",
   "name": "python",
   "nbconvert_exporter": "python",
   "pygments_lexer": "ipython3",
   "version": "3.12.2"
  }
 },
 "nbformat": 4,
 "nbformat_minor": 2
}
